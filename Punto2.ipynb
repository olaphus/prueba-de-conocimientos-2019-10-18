{
 "cells": [
  {
   "cell_type": "markdown",
   "metadata": {},
   "source": [
    "## Librerías usadas\n",
    "\n",
    "En este cuaderno usaremos ``numpy`` y ``matplotlib``. Esta celda importa estos paquetes y define que la salida de las gráficas se muestre en el cuaderno al correr la celda."
   ]
  },
  {
   "cell_type": "code",
   "execution_count": 1,
   "metadata": {},
   "outputs": [],
   "source": [
    "#Importamos algunas librerías\n",
    "import matplotlib.pyplot as plt\n",
    "import numpy as nmp\n",
    "from matplotlib import rcParams\n",
    "rcParams['font.family'] = 'serif'\n",
    "rcParams['font.sans-serif'] = ['Times']\n",
    "%matplotlib inline"
   ]
  },
  {
   "cell_type": "markdown",
   "metadata": {},
   "source": [
    "## Solución numérica de Ecuaciones Diferenciales Parciales de segundo orden\n",
    "$$ \\newcommand{\\pap}[1]{\\left( #1 \\right)}\n",
    "\\newcommand{\\pas}[1]{\\left[ #1 \\right]}\n",
    "\\newcommand{\\pac}[1]{\\left\\{ #1 \\right\\}}\n",
    "\\newcommand{\\pav}[1]{\\left\\vert #1 \\right\\vert}\n",
    "\\newcommand{\\paV}[1]{\\left\\Vert #1 \\right\\Vert}\n",
    "\\newcommand{\\yb}{\\mathbf{y}}\n",
    "\\newcommand{\\ub}{\\mathbf{u}}\n",
    "\\newcommand{\\zzb}{\\mathbf{z}}\n",
    "\\newcommand{\\Am}{\\mathbb{A}}\n",
    "$$\n",
    "### Problemas con condiciones de frontera: Diferencias Finitas\n",
    "\n",
    "Supongamos que queremos solucionar la siguiente ecuación diferencial parcial en dos dimensiones (ecuación de Poisson):\n",
    "$$\n",
    "\\frac{\\partial^2 f}{\\partial x^2}+\\frac{\\partial^2 f}{\\partial y^2}=g(x,y)\\;.\n",
    "$$\n"
   ]
  },
  {
   "cell_type": "code",
   "execution_count": null,
   "metadata": {},
   "outputs": [],
   "source": []
  }
 ],
 "metadata": {
  "kernelspec": {
   "display_name": "Python 3",
   "language": "python",
   "name": "python3"
  },
  "language_info": {
   "codemirror_mode": {
    "name": "ipython",
    "version": 3
   },
   "file_extension": ".py",
   "mimetype": "text/x-python",
   "name": "python",
   "nbconvert_exporter": "python",
   "pygments_lexer": "ipython3",
   "version": "3.7.3"
  }
 },
 "nbformat": 4,
 "nbformat_minor": 2
}
